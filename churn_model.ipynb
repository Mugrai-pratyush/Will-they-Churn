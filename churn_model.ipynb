{
 "cells": [
  {
   "cell_type": "markdown",
   "metadata": {},
   "source": [
    "Importing Libraries"
   ]
  },
  {
   "cell_type": "code",
   "execution_count": 28,
   "metadata": {},
   "outputs": [],
   "source": [
    "import pandas as pd\n",
    "import joblib\n",
    "from sklearn.model_selection import train_test_split\n",
    "from sklearn.ensemble import RandomForestClassifier\n",
    "from sklearn.model_selection import GridSearchCV\n",
    "from sklearn.metrics import accuracy_score, confusion_matrix, classification_report"
   ]
  },
  {
   "cell_type": "markdown",
   "metadata": {},
   "source": [
    "Loading the Dataset"
   ]
  },
  {
   "cell_type": "code",
   "execution_count": 29,
   "metadata": {},
   "outputs": [
    {
     "data": {
      "text/html": [
       "<div>\n",
       "<style scoped>\n",
       "    .dataframe tbody tr th:only-of-type {\n",
       "        vertical-align: middle;\n",
       "    }\n",
       "\n",
       "    .dataframe tbody tr th {\n",
       "        vertical-align: top;\n",
       "    }\n",
       "\n",
       "    .dataframe thead th {\n",
       "        text-align: right;\n",
       "    }\n",
       "</style>\n",
       "<table border=\"1\" class=\"dataframe\">\n",
       "  <thead>\n",
       "    <tr style=\"text-align: right;\">\n",
       "      <th></th>\n",
       "      <th>customerID</th>\n",
       "      <th>gender</th>\n",
       "      <th>SeniorCitizen</th>\n",
       "      <th>Partner</th>\n",
       "      <th>Dependents</th>\n",
       "      <th>tenure</th>\n",
       "      <th>PhoneService</th>\n",
       "      <th>MultipleLines</th>\n",
       "      <th>InternetService</th>\n",
       "      <th>OnlineSecurity</th>\n",
       "      <th>...</th>\n",
       "      <th>DeviceProtection</th>\n",
       "      <th>TechSupport</th>\n",
       "      <th>StreamingTV</th>\n",
       "      <th>StreamingMovies</th>\n",
       "      <th>Contract</th>\n",
       "      <th>PaperlessBilling</th>\n",
       "      <th>PaymentMethod</th>\n",
       "      <th>MonthlyCharges</th>\n",
       "      <th>TotalCharges</th>\n",
       "      <th>Churn</th>\n",
       "    </tr>\n",
       "  </thead>\n",
       "  <tbody>\n",
       "    <tr>\n",
       "      <th>0</th>\n",
       "      <td>7590-VHVEG</td>\n",
       "      <td>Female</td>\n",
       "      <td>0</td>\n",
       "      <td>Yes</td>\n",
       "      <td>No</td>\n",
       "      <td>1</td>\n",
       "      <td>No</td>\n",
       "      <td>No phone service</td>\n",
       "      <td>DSL</td>\n",
       "      <td>No</td>\n",
       "      <td>...</td>\n",
       "      <td>No</td>\n",
       "      <td>No</td>\n",
       "      <td>No</td>\n",
       "      <td>No</td>\n",
       "      <td>Month-to-month</td>\n",
       "      <td>Yes</td>\n",
       "      <td>Electronic check</td>\n",
       "      <td>29.85</td>\n",
       "      <td>29.85</td>\n",
       "      <td>No</td>\n",
       "    </tr>\n",
       "    <tr>\n",
       "      <th>1</th>\n",
       "      <td>5575-GNVDE</td>\n",
       "      <td>Male</td>\n",
       "      <td>0</td>\n",
       "      <td>No</td>\n",
       "      <td>No</td>\n",
       "      <td>34</td>\n",
       "      <td>Yes</td>\n",
       "      <td>No</td>\n",
       "      <td>DSL</td>\n",
       "      <td>Yes</td>\n",
       "      <td>...</td>\n",
       "      <td>Yes</td>\n",
       "      <td>No</td>\n",
       "      <td>No</td>\n",
       "      <td>No</td>\n",
       "      <td>One year</td>\n",
       "      <td>No</td>\n",
       "      <td>Mailed check</td>\n",
       "      <td>56.95</td>\n",
       "      <td>1889.5</td>\n",
       "      <td>No</td>\n",
       "    </tr>\n",
       "    <tr>\n",
       "      <th>2</th>\n",
       "      <td>3668-QPYBK</td>\n",
       "      <td>Male</td>\n",
       "      <td>0</td>\n",
       "      <td>No</td>\n",
       "      <td>No</td>\n",
       "      <td>2</td>\n",
       "      <td>Yes</td>\n",
       "      <td>No</td>\n",
       "      <td>DSL</td>\n",
       "      <td>Yes</td>\n",
       "      <td>...</td>\n",
       "      <td>No</td>\n",
       "      <td>No</td>\n",
       "      <td>No</td>\n",
       "      <td>No</td>\n",
       "      <td>Month-to-month</td>\n",
       "      <td>Yes</td>\n",
       "      <td>Mailed check</td>\n",
       "      <td>53.85</td>\n",
       "      <td>108.15</td>\n",
       "      <td>Yes</td>\n",
       "    </tr>\n",
       "    <tr>\n",
       "      <th>3</th>\n",
       "      <td>7795-CFOCW</td>\n",
       "      <td>Male</td>\n",
       "      <td>0</td>\n",
       "      <td>No</td>\n",
       "      <td>No</td>\n",
       "      <td>45</td>\n",
       "      <td>No</td>\n",
       "      <td>No phone service</td>\n",
       "      <td>DSL</td>\n",
       "      <td>Yes</td>\n",
       "      <td>...</td>\n",
       "      <td>Yes</td>\n",
       "      <td>Yes</td>\n",
       "      <td>No</td>\n",
       "      <td>No</td>\n",
       "      <td>One year</td>\n",
       "      <td>No</td>\n",
       "      <td>Bank transfer (automatic)</td>\n",
       "      <td>42.30</td>\n",
       "      <td>1840.75</td>\n",
       "      <td>No</td>\n",
       "    </tr>\n",
       "    <tr>\n",
       "      <th>4</th>\n",
       "      <td>9237-HQITU</td>\n",
       "      <td>Female</td>\n",
       "      <td>0</td>\n",
       "      <td>No</td>\n",
       "      <td>No</td>\n",
       "      <td>2</td>\n",
       "      <td>Yes</td>\n",
       "      <td>No</td>\n",
       "      <td>Fiber optic</td>\n",
       "      <td>No</td>\n",
       "      <td>...</td>\n",
       "      <td>No</td>\n",
       "      <td>No</td>\n",
       "      <td>No</td>\n",
       "      <td>No</td>\n",
       "      <td>Month-to-month</td>\n",
       "      <td>Yes</td>\n",
       "      <td>Electronic check</td>\n",
       "      <td>70.70</td>\n",
       "      <td>151.65</td>\n",
       "      <td>Yes</td>\n",
       "    </tr>\n",
       "  </tbody>\n",
       "</table>\n",
       "<p>5 rows × 21 columns</p>\n",
       "</div>"
      ],
      "text/plain": [
       "   customerID  gender  SeniorCitizen Partner Dependents  tenure PhoneService  \\\n",
       "0  7590-VHVEG  Female              0     Yes         No       1           No   \n",
       "1  5575-GNVDE    Male              0      No         No      34          Yes   \n",
       "2  3668-QPYBK    Male              0      No         No       2          Yes   \n",
       "3  7795-CFOCW    Male              0      No         No      45           No   \n",
       "4  9237-HQITU  Female              0      No         No       2          Yes   \n",
       "\n",
       "      MultipleLines InternetService OnlineSecurity  ... DeviceProtection  \\\n",
       "0  No phone service             DSL             No  ...               No   \n",
       "1                No             DSL            Yes  ...              Yes   \n",
       "2                No             DSL            Yes  ...               No   \n",
       "3  No phone service             DSL            Yes  ...              Yes   \n",
       "4                No     Fiber optic             No  ...               No   \n",
       "\n",
       "  TechSupport StreamingTV StreamingMovies        Contract PaperlessBilling  \\\n",
       "0          No          No              No  Month-to-month              Yes   \n",
       "1          No          No              No        One year               No   \n",
       "2          No          No              No  Month-to-month              Yes   \n",
       "3         Yes          No              No        One year               No   \n",
       "4          No          No              No  Month-to-month              Yes   \n",
       "\n",
       "               PaymentMethod MonthlyCharges  TotalCharges Churn  \n",
       "0           Electronic check          29.85         29.85    No  \n",
       "1               Mailed check          56.95        1889.5    No  \n",
       "2               Mailed check          53.85        108.15   Yes  \n",
       "3  Bank transfer (automatic)          42.30       1840.75    No  \n",
       "4           Electronic check          70.70        151.65   Yes  \n",
       "\n",
       "[5 rows x 21 columns]"
      ]
     },
     "execution_count": 29,
     "metadata": {},
     "output_type": "execute_result"
    }
   ],
   "source": [
    "data_frame=pd.read_csv(\"data/telco_churn.csv\")\n",
    "data_frame.head()"
   ]
  },
  {
   "cell_type": "markdown",
   "metadata": {},
   "source": [
    "Cleaning the Data"
   ]
  },
  {
   "cell_type": "code",
   "execution_count": 30,
   "metadata": {},
   "outputs": [],
   "source": [
    "data_frame = data_frame.drop_duplicates()\n",
    "data_frame = data_frame.dropna()\n",
    "data_frame.isnull().sum()\n",
    "#Got to Know that in TotalCharges there are some empty strings \n",
    "# Fix for that\n",
    "data_frame['TotalCharges'] = pd.to_numeric(data_frame['TotalCharges'], errors='coerce')\n",
    "data_frame = data_frame.dropna(subset=['TotalCharges'])\n",
    "#data_frame.isnull().sum()\n"
   ]
  },
  {
   "cell_type": "markdown",
   "metadata": {},
   "source": [
    "Setting the Labels"
   ]
  },
  {
   "cell_type": "code",
   "execution_count": 31,
   "metadata": {},
   "outputs": [],
   "source": [
    "'''Index(['customerID', 'gender', 'SeniorCitizen', 'Partner', 'Dependents',\n",
    "       'tenure', 'PhoneService', 'MultipleLines', 'InternetService',\n",
    "       'OnlineSecurity', 'OnlineBackup', 'DeviceProtection', 'TechSupport',\n",
    "       'StreamingTV', 'StreamingMovies', 'Contract', 'PaperlessBilling',\n",
    "       'PaymentMethod', 'MonthlyCharges', 'TotalCharges', 'Churn'],\n",
    "      dtype='object')'''\n",
    "# these are all the attributes from the dataset right \n",
    "# The Target will obviously be churn\n",
    "Labels=data_frame[\"Churn\"]# making the Churn the Target\n",
    "# Labels.head()\n",
    "# 0     No\n",
    "# 1     No\n",
    "# 2    Yes\n",
    "# 3     No\n",
    "# 4    Yes"
   ]
  },
  {
   "cell_type": "markdown",
   "metadata": {},
   "source": [
    "Setting the Features"
   ]
  },
  {
   "cell_type": "code",
   "execution_count": 32,
   "metadata": {},
   "outputs": [],
   "source": [
    "'''Index(['customerID', 'gender', 'SeniorCitizen', 'Partner', 'Dependents',\n",
    "       'tenure', 'PhoneService', 'MultipleLines', 'InternetService',\n",
    "       'OnlineSecurity', 'OnlineBackup', 'DeviceProtection', 'TechSupport',\n",
    "       'StreamingTV', 'StreamingMovies', 'Contract', 'PaperlessBilling',\n",
    "       'PaymentMethod', 'MonthlyCharges', 'TotalCharges', 'Churn'],\n",
    "      dtype='object')'''\n",
    "# Deciding the Features\n",
    "#costumerID:Not Useful\n",
    "\"\"\" Featurs:gender', 'SeniorCitizen', 'Partner', 'Dependents',\n",
    "      'tenure', 'PhoneService', 'MultipleLines', 'InternetService',\n",
    "       'OnlineSecurity', 'OnlineBackup', 'DeviceProtection', 'TechSupport',\n",
    "       'StreamingTV', 'StreamingMovies', 'Contract', 'PaperlessBilling',\n",
    "       'PaymentMethod', 'MonthlyCharges', 'TotalCharges'\"\"\"\n",
    "#depending on result might remove later are Gender ,Senior Citizen,Partner and Dependents\n",
    "Features_list=['tenure', 'PhoneService', 'MultipleLines', 'InternetService',\n",
    "       'OnlineSecurity', 'OnlineBackup', 'DeviceProtection', 'TechSupport',\n",
    "       'StreamingTV', 'StreamingMovies', 'Contract', 'PaperlessBilling',\n",
    "       'PaymentMethod', 'MonthlyCharges', 'TotalCharges']\n",
    "Features=data_frame[Features_list]\n",
    "Features_bin = pd.get_dummies(Features)#encoding the feature to binary as we hit an error since all features are not numerical"
   ]
  },
  {
   "cell_type": "markdown",
   "metadata": {},
   "source": [
    "Spliting the Train and Test Part of the Dataset"
   ]
  },
  {
   "cell_type": "code",
   "execution_count": 33,
   "metadata": {},
   "outputs": [],
   "source": [
    "Feature_train,Feature_test,Label_Train,Label_test=train_test_split(Features_bin,Labels,test_size=0.1,random_state=64)"
   ]
  },
  {
   "cell_type": "markdown",
   "metadata": {},
   "source": [
    "Model Training"
   ]
  },
  {
   "cell_type": "code",
   "execution_count": 34,
   "metadata": {},
   "outputs": [],
   "source": [
    "# Churn_model=RandomForestClassifier(n_estimators=500,class_weight='balanced',random_state=64)\n",
    "# Churn_model.fit(Feature_train,Label_Train) "
   ]
  },
  {
   "cell_type": "markdown",
   "metadata": {},
   "source": [
    "testing the model"
   ]
  },
  {
   "cell_type": "code",
   "execution_count": 35,
   "metadata": {},
   "outputs": [],
   "source": [
    "# # Make predictions\n",
    "# predictions = Churn_model.predict(Feature_test)\n",
    "\n",
    "# # Accuracy\n",
    "# print(\"Accuracy:\", accuracy_score(Label_test, predictions))\n",
    "\n",
    "# # Confusion matrix\n",
    "# print(\"Confusion Matrix:\\n\", confusion_matrix(Label_test, predictions))\n",
    "\n",
    "# # Classification report\n",
    "# print(\"Classification Report:\\n\", classification_report(Label_test, predictions))"
   ]
  },
  {
   "cell_type": "markdown",
   "metadata": {},
   "source": [
    "Evaluation: Did not perform Great at all"
   ]
  },
  {
   "cell_type": "markdown",
   "metadata": {},
   "source": [
    "Trying to make the model more accurat"
   ]
  },
  {
   "cell_type": "code",
   "execution_count": 36,
   "metadata": {},
   "outputs": [],
   "source": [
    "# #checking the importance of each feature given by the model\n",
    "#Feature_importance=Churn_model.feature_importances_# this gives the importance of each feature to the model\n",
    "#printed these and copied\n",
    "Feature_importance=[0.15230087,0.16065304, 0.18371684 ,0.00284697, 0.00276143, 0.01164363,\n",
    " 0.00271301, 0.01162704 ,0.01081612, 0.02646365 ,0.0019556  ,0.04216726,\n",
    " 0.00354565, 0.01237453, 0.01748455 ,0.00396042, 0.01199922, 0.01361753,\n",
    " 0.00413808 ,0.0111944,  0.03453594, 0.00346095, 0.01120156 ,0.01067151,\n",
    " 0.00404966 ,0.01070639 ,0.01017055 ,0.00361024 ,0.01096441 ,0.06749237,\n",
    " 0.01440967 ,0.03581286, 0.01407526, 0.01441264, 0.01239864, 0.01336037,\n",
    " 0.02899315, 0.01169398]\n",
    "feature_sublist=Feature_train.columns\n",
    "feature_importance_dataframe = pd.DataFrame({\n",
    "     'Feature': feature_sublist,\n",
    "     'Importance': Feature_importance\n",
    "}).sort_values(by='Importance', ascending=False)# creating a dataframe to sort the importance of each feature with its name\n",
    "# feature_importance_dataframe\n",
    "DontMatterfeatures = feature_importance_dataframe[\n",
    "    feature_importance_dataframe['Importance'] < 0.01\n",
    " ]['Feature'].tolist()# all features that contribute below 1% should br dropped\n"
   ]
  },
  {
   "cell_type": "markdown",
   "metadata": {},
   "source": [
    "Building a parallel Model to compare"
   ]
  },
  {
   "cell_type": "code",
   "execution_count": 37,
   "metadata": {},
   "outputs": [],
   "source": [
    "Feature_Parallel_train = Feature_train.drop(columns=DontMatterfeatures)\n",
    "Feature_Parallel_test=Feature_test.drop(columns=DontMatterfeatures)\n",
    "# # Parallel Model\n",
    "# Churn_Parallel_model=RandomForestClassifier(n_estimators=500,class_weight='balanced',random_state=64)\n",
    "# Churn_Parallel_model.fit(Feature_Parallel_train,Label_Train)"
   ]
  },
  {
   "cell_type": "markdown",
   "metadata": {},
   "source": [
    "Testing the Parallel model\n"
   ]
  },
  {
   "cell_type": "code",
   "execution_count": 38,
   "metadata": {},
   "outputs": [],
   "source": [
    "# # Make predictions\n",
    "# predictions_parallel = Churn_Parallel_model.predict(Feature_Parallel_test)\n",
    "\n",
    "# # Accuracy\n",
    "# print(\"Accuracy:\", accuracy_score(Label_test, predictions_parallel))\n",
    "\n",
    "# # Confusion matrix\n",
    "# print(\"Confusion Matrix:\\n\", confusion_matrix(Label_test,predictions_parallel))\n",
    "\n",
    "# # Classification report\n",
    "# print(\"Classification Report:\\n\", classification_report(Label_test, predictions_parallel))"
   ]
  },
  {
   "cell_type": "markdown",
   "metadata": {},
   "source": [
    "now we try the Grid search"
   ]
  },
  {
   "cell_type": "code",
   "execution_count": 39,
   "metadata": {},
   "outputs": [
    {
     "name": "stdout",
     "output_type": "stream",
     "text": [
      "Fitting 5 folds for each of 36 candidates, totalling 180 fits\n",
      "Best Parameters: {'class_weight': 'balanced', 'max_depth': 10, 'max_features': 'log2', 'min_samples_split': 2, 'n_estimators': 100}\n"
     ]
    }
   ],
   "source": [
    "GRID_PARAMETERS = {'n_estimators': [50, 75, 100],\n",
    "    'max_depth': [None, 10, 20],'min_samples_split': [2, 5],\n",
    "    'max_features': ['sqrt', 'log2'],'class_weight': ['balanced'] \n",
    "}\n",
    "# the Parameters to try have been chosen now we set up the Grid search\n",
    "Maybe_best_chModel=GridSearchCV(estimator=RandomForestClassifier(random_state=64),\n",
    "                                param_grid=GRID_PARAMETERS,\n",
    "                                scoring=\"f1_macro\",#we pick the one with the best f1-macro score\n",
    "                                cv=5,\n",
    "                                verbose=1,\n",
    "                                n_jobs=-1\n",
    "                                )\n",
    "Maybe_best_chModel.fit(Feature_Parallel_train,Label_Train)\n",
    "The_best_Param_chModel= Maybe_best_chModel.best_estimator_# setting the best model as the model to use\n",
    "print(\"Best Parameters:\",Maybe_best_chModel.best_params_)# looking at the parameters used\n"
   ]
  },
  {
   "cell_type": "markdown",
   "metadata": {},
   "source": [
    "Evaluating The model with the best parameters"
   ]
  },
  {
   "cell_type": "code",
   "execution_count": 40,
   "metadata": {},
   "outputs": [
    {
     "name": "stdout",
     "output_type": "stream",
     "text": [
      "Accuracy: 0.7940340909090909\n",
      "Confusion Matrix:\n",
      " [[432  96]\n",
      " [ 49 127]]\n",
      "Classification Report:\n",
      "               precision    recall  f1-score   support\n",
      "\n",
      "          No       0.90      0.82      0.86       528\n",
      "         Yes       0.57      0.72      0.64       176\n",
      "\n",
      "    accuracy                           0.79       704\n",
      "   macro avg       0.73      0.77      0.75       704\n",
      "weighted avg       0.82      0.79      0.80       704\n",
      "\n"
     ]
    },
    {
     "data": {
      "text/plain": [
       "['chmodel.pkl']"
      ]
     },
     "execution_count": 40,
     "metadata": {},
     "output_type": "execute_result"
    }
   ],
   "source": [
    "# Make predictions\n",
    "predictions_Best_parameter_model = The_best_Param_chModel.predict(Feature_Parallel_test)\n",
    "\n",
    "# Accuracy\n",
    "print(\"Accuracy:\", accuracy_score(Label_test, predictions_Best_parameter_model))\n",
    "\n",
    "# Confusion matrix\n",
    "print(\"Confusion Matrix:\\n\", confusion_matrix(Label_test,predictions_Best_parameter_model))\n",
    "\n",
    "# Classification report\n",
    "print(\"Classification Report:\\n\", classification_report(Label_test,predictions_Best_parameter_model ))\n",
    "#Final Numbers\n",
    "# Accuracy: 0.7940340909090909\n",
    "# Confusion Matrix:\n",
    "#  [[432  96]\n",
    "#  [ 49 127]]\n",
    "# Classification Report:\n",
    "#                precision    recall  f1-score   support\n",
    "\n",
    "#           No       0.90      0.82      0.86       528\n",
    "#          Yes       0.57      0.72      0.64       176\n",
    "\n",
    "#     accuracy                           0.79       704\n",
    "#    macro avg       0.73      0.77      0.75       704\n",
    "# weighted avg       0.82      0.79      0.80       704\n",
    "joblib.dump(The_best_Param_chModel,\"chmodel.pkl\")\n"
   ]
  }
 ],
 "metadata": {
  "kernelspec": {
   "display_name": "Python 3",
   "language": "python",
   "name": "python3"
  },
  "language_info": {
   "codemirror_mode": {
    "name": "ipython",
    "version": 3
   },
   "file_extension": ".py",
   "mimetype": "text/x-python",
   "name": "python",
   "nbconvert_exporter": "python",
   "pygments_lexer": "ipython3",
   "version": "3.11.5"
  }
 },
 "nbformat": 4,
 "nbformat_minor": 2
}
